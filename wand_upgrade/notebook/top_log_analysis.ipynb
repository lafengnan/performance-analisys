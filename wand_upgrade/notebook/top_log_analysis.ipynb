{
 "cells": [
  {
   "cell_type": "code",
   "execution_count": 1,
   "metadata": {
    "collapsed": false
   },
   "outputs": [
    {
     "name": "stdout",
     "output_type": "stream",
     "text": [
      "Using matplotlib backend: TkAgg\n",
      "Populating the interactive namespace from numpy and matplotlib\n"
     ]
    }
   ],
   "source": [
    "%pylab"
   ]
  },
  {
   "cell_type": "code",
   "execution_count": 105,
   "metadata": {
    "collapsed": false
   },
   "outputs": [
    {
     "data": {
      "text/plain": [
       "<matplotlib.legend.Legend at 0x23359350>"
      ]
     },
     "execution_count": 105,
     "metadata": {},
     "output_type": "execute_result"
    }
   ],
   "source": [
    "import pandas as pd\n",
    "\n",
    "data1 = pd.read_csv(\"/home/chris/Work/Debug/wand/25422.csv\")\n",
    "data2 = pd.read_csv(\"/home/chris/Work/Debug/wand/25436.csv\")\n",
    "data3 = pd.read_csv(\"/home/chris/Work/Debug/wand/25437.csv\")\n",
    "plot(data1.virt, label='pid:25442 virt')\n",
    "plot(data1.res, label='pid:25442 res')\n",
    "plot(data2.virt, label='pid:25436 virt')\n",
    "plot(data2.res, label='pid:25436 res')\n",
    "plot(data3.virt, label='pid:25437 virt')\n",
    "plot(data3.res, label='pid:25437 res')\n",
    "legend()"
   ]
  },
  {
   "cell_type": "code",
   "execution_count": 89,
   "metadata": {
    "collapsed": false
   },
   "outputs": [
    {
     "data": {
      "text/plain": [
       "<matplotlib.legend.Legend at 0x20bdaa90>"
      ]
     },
     "execution_count": 89,
     "metadata": {},
     "output_type": "execute_result"
    }
   ],
   "source": [
    "import pandas as pd\n",
    "\n",
    "data1 = pd.read_csv(\"/home/chris/Work/Debug/wand/4406.csv\")\n",
    "data2 = pd.read_csv(\"/home/chris/Work/Debug/wand/4421.csv\")\n",
    "data3 = pd.read_csv(\"/home/chris/Work/Debug/wand/4422.csv\")\n",
    "plot(data1.virt, label='pid:4406 virt')\n",
    "plot(data1.res, label='pid:4406 res')\n",
    "plot(data2.virt, label='pid:4421 virt')\n",
    "plot(data2.res, label='pid:4421 res')\n",
    "plot(data3.virt, label='pid:4422 virt')\n",
    "plot(data3.res, label='pid:4422 res')\n",
    "legend()"
   ]
  },
  {
   "cell_type": "code",
   "execution_count": 93,
   "metadata": {
    "collapsed": false
   },
   "outputs": [
    {
     "data": {
      "text/plain": [
       "<matplotlib.legend.Legend at 0x227919d0>"
      ]
     },
     "execution_count": 93,
     "metadata": {},
     "output_type": "execute_result"
    }
   ],
   "source": [
    "import pandas as pd\n",
    "\n",
    "data = pd.read_csv(\"/home/chris/Work/Debug/wand/top_024.csv\")\n",
    "data2 = pd.read_csv(\"/home/chris/Work/Debug/wand/top.csv\")\n",
    "plot(data.load_1, label='wand 0.2.4 avg load 1min')\n",
    "plot(data.load_5, label='wand 0.2.4 avg load 5min')\n",
    "plot(data.load_10, label='wand 0.2.4 avg lod 10min')\n",
    "plot(data2.load_1, label='wand 0.4.0 avg load 1min')\n",
    "plot(data2.load_5, label='wand 0.4.0 avg load 5min')\n",
    "plot(data2.load_10, label='wand 0.4.0 avg lod 10min')\n",
    "legend()"
   ]
  },
  {
   "cell_type": "code",
   "execution_count": 111,
   "metadata": {
    "collapsed": false
   },
   "outputs": [
    {
     "data": {
      "text/plain": [
       "<matplotlib.legend.Legend at 0x2a23f310>"
      ]
     },
     "execution_count": 111,
     "metadata": {},
     "output_type": "execute_result"
    }
   ],
   "source": [
    "import pandas as pd\n",
    "\n",
    "data = pd.read_csv(\"/home/chris/Work/Debug/wand/top_024.csv\")\n",
    "data2 = pd.read_csv(\"/home/chris/Work/Debug/wand/top.csv\")\n",
    "plot(data.cpu, label='wand 0.2.4 cpu usage')\n",
    "plot(data2.cpu, label='wand 0.4.0 cpu usage')\n",
    "#plot(data.mem, label='wand 0.2.4 mem usage')\n",
    "#plot(data2.mem, label='wand 0.4.0 mem usage')\n",
    "legend()"
   ]
  },
  {
   "cell_type": "code",
   "execution_count": 114,
   "metadata": {
    "collapsed": false
   },
   "outputs": [
    {
     "data": {
      "text/plain": [
       "<matplotlib.legend.Legend at 0x3cfbcd10>"
      ]
     },
     "execution_count": 114,
     "metadata": {},
     "output_type": "execute_result"
    }
   ],
   "source": [
    "import pandas as pd\n",
    "\n",
    "data1 = pd.read_csv(\"/home/chris/Work/Debug/wand/reports/1968.csv\")\n",
    "data2 = pd.read_csv(\"/home/chris/Work/Debug/wand/reports/1978.csv\")\n",
    "data3 = pd.read_csv(\"/home/chris/Work/Debug/wand/reports/1979.csv\")\n",
    "plot(data1.virt, label='pid:1968 virt')\n",
    "plot(data1.res, label='pid:1968 res')\n",
    "plot(data2.virt, label='pid:1978 virt')\n",
    "plot(data2.res, label='pid:1978 res')\n",
    "plot(data3.virt, label='pid:1979 virt')\n",
    "plot(data3.res, label='pid:1979 res')\n",
    "legend()"
   ]
  },
  {
   "cell_type": "code",
   "execution_count": 125,
   "metadata": {
    "collapsed": false
   },
   "outputs": [
    {
     "data": {
      "text/plain": [
       "<matplotlib.legend.Legend at 0x3a7aa610>"
      ]
     },
     "execution_count": 125,
     "metadata": {},
     "output_type": "execute_result"
    }
   ],
   "source": [
    "import pandas as pd\n",
    "\n",
    "data = pd.read_csv(\"/home/chris/Work/Debug/wand/reports/1968.csv\")\n",
    "data2 = pd.read_csv(\"/home/chris/Work/Debug/wand/reports/1978.csv\")\n",
    "data3 = pd.read_csv(\"/home/chris/Work/Debug/wand/reports/1979.csv\")\n",
    "#plot(data.cpu, label='pid 1968 cpu usage')\n",
    "#plot(data2.cpu, label='pid 1978 cpu usage')\n",
    "#plot(data3.cpu, label='pid 1979 cpu usage')\n",
    "plot(data.mem, label='pid 1968 mem usage')\n",
    "plot(data2.mem, label='pid 1978 mem usage')\n",
    "plot(data3.mem, label='pid 1979 mem usage')\n",
    "legend()"
   ]
  },
  {
   "cell_type": "code",
   "execution_count": 121,
   "metadata": {
    "collapsed": false
   },
   "outputs": [
    {
     "data": {
      "text/plain": [
       "<matplotlib.legend.Legend at 0x3ba759d0>"
      ]
     },
     "execution_count": 121,
     "metadata": {},
     "output_type": "execute_result"
    }
   ],
   "source": [
    "import pandas as pd\n",
    "\n",
    "data = pd.read_csv(\"/home/chris/Work/Debug/wand/reports/celery_150420094119.csv\")\n",
    "plot(data.load_1, label='avg load 1min')\n",
    "plot(data.load_5, label='avg load 5min')\n",
    "plot(data.load_10, label='avg lod 10min')\n",
    "legend()"
   ]
  },
  {
   "cell_type": "code",
   "execution_count": null,
   "metadata": {
    "collapsed": true
   },
   "outputs": [],
   "source": []
  }
 ],
 "metadata": {
  "kernelspec": {
   "display_name": "Python 2",
   "language": "python",
   "name": "python2"
  },
  "language_info": {
   "codemirror_mode": {
    "name": "ipython",
    "version": 2
   },
   "file_extension": ".py",
   "mimetype": "text/x-python",
   "name": "python",
   "nbconvert_exporter": "python",
   "pygments_lexer": "ipython2",
   "version": "2.7.3"
  }
 },
 "nbformat": 4,
 "nbformat_minor": 0
}
