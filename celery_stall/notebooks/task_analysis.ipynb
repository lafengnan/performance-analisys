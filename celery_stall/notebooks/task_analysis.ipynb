{
 "cells": [
  {
   "cell_type": "code",
   "execution_count": 3,
   "metadata": {
    "collapsed": false
   },
   "outputs": [
    {
     "name": "stdout",
     "output_type": "stream",
     "text": [
      "Using matplotlib backend: TkAgg\n",
      "Populating the interactive namespace from numpy and matplotlib\n"
     ]
    }
   ],
   "source": [
    "%pylab"
   ]
  },
  {
   "cell_type": "code",
   "execution_count": 63,
   "metadata": {
    "collapsed": false
   },
   "outputs": [
    {
     "data": {
      "text/plain": [
       "<matplotlib.legend.Legend at 0x1610d410>"
      ]
     },
     "execution_count": 63,
     "metadata": {},
     "output_type": "execute_result"
    }
   ],
   "source": [
    "import pandas as pd\n",
    "\n",
    "worker_data = pd.read_csv(\"task_log/task.csv\")\n",
    "queue_data = pd.read_csv(\"task_log/task_queue.csv\")\n",
    "\n",
    "plot(worker_data.duration, label='worker duration')\n",
    "plot(queue_data.duration, label='inqueue duration')\n",
    "plot(queue_data.latency, label='accept latency')\n",
    "legend()"
   ]
  },
  {
   "cell_type": "code",
   "execution_count": 71,
   "metadata": {
    "collapsed": false
   },
   "outputs": [
    {
     "data": {
      "text/plain": [
       "Int64Index([   0,    1,    2, ..., 5056, 5057, 5058])"
      ]
     },
     "execution_count": 71,
     "metadata": {},
     "output_type": "execute_result"
    }
   ],
   "source": [
    "import pandas as pd\n",
    "\n",
    "worker_data = pd.read_csv(\"task_log/task_15nodes0413.csv\")\n",
    "queue_data = pd.read_csv(\"task_log/task_15nodes0413_queue.csv\")\n",
    "\n",
    "plot(worker_data.duration, label='worker duration')\n",
    "plot(queue_data.duration, label='inqueue duration')\n",
    "plot(queue_data.latency, label='accept latency')\n",
    "legend()"
   ]
  },
  {
   "cell_type": "code",
   "execution_count": 44,
   "metadata": {
    "collapsed": false
   },
   "outputs": [
    {
     "data": {
      "text/plain": [
       "<matplotlib.legend.Legend at 0x8f4cb50>"
      ]
     },
     "execution_count": 44,
     "metadata": {},
     "output_type": "execute_result"
    }
   ],
   "source": [
    "import pandas as pd\n",
    "\n",
    "worker_data = pd.read_csv(\"task_log/celery_0410.csv\")\n",
    "queue_data = pd.read_csv(\"task_log/celery_0410_inqueue.csv\")\n",
    "\n",
    "plot(worker_data.duration, label='worker duration')\n",
    "plot(queue_data.duration, label='inqueue duration')\n",
    "plot(queue_data.latency, label='accept latency')\n",
    "legend()"
   ]
  },
  {
   "cell_type": "code",
   "execution_count": 51,
   "metadata": {
    "collapsed": false
   },
   "outputs": [
    {
     "data": {
      "text/plain": [
       "<matplotlib.legend.Legend at 0x7b8a3050>"
      ]
     },
     "execution_count": 51,
     "metadata": {},
     "output_type": "execute_result"
    }
   ],
   "source": [
    "import pandas as pd\n",
    "\n",
    "worker_data = pd.read_csv(\"task_log/celery_0412.csv\")\n",
    "queue_data = pd.read_csv(\"task_log/celery_0412_queue.csv\")\n",
    "\n",
    "plot(worker_data.duration, label='worker duration')\n",
    "plot(queue_data.retries, label='retries')\n",
    "plot(queue_data.duration, label='inqueue duration')\n",
    "plot(queue_data.latency, label='accept latency')\n",
    "legend()"
   ]
  },
  {
   "cell_type": "code",
   "execution_count": 17,
   "metadata": {
    "collapsed": false
   },
   "outputs": [
    {
     "data": {
      "text/plain": [
       "<matplotlib.legend.Legend at 0xf3ee650>"
      ]
     },
     "execution_count": 17,
     "metadata": {},
     "output_type": "execute_result"
    }
   ],
   "source": [
    "import pandas as pd\n",
    "\n",
    "worker_data = pd.read_csv(\"task_log/celery_0413.csv\")\n",
    "queue_data = pd.read_csv(\"task_log/celery_0413_queue.csv\")\n",
    "\n",
    "plot(worker_data.duration, label='worker duration')\n",
    "plot(queue_data.duration, label='inqueue duration')\n",
    "plot(queue_data.latency, label='accept latency')\n",
    "legend()"
   ]
  },
  {
   "cell_type": "code",
   "execution_count": 43,
   "metadata": {
    "collapsed": false
   },
   "outputs": [
    {
     "data": {
      "text/plain": [
       "<matplotlib.legend.Legend at 0x625490d0>"
      ]
     },
     "execution_count": 43,
     "metadata": {},
     "output_type": "execute_result"
    }
   ],
   "source": [
    "import pandas as pd\n",
    "\n",
    "worker_data = pd.read_csv(\"task_log/celery_0413_2.csv\")\n",
    "queue_data = pd.read_csv(\"task_log/celery_0413_2_queue.csv\")\n",
    "\n",
    "plot(worker_data.duration, label='worker duration')\n",
    "plot(queue_data.duration, label='inqueue duration')\n",
    "plot(queue_data.latency, label='accept latency')\n",
    "legend()"
   ]
  },
  {
   "cell_type": "code",
   "execution_count": 38,
   "metadata": {
    "collapsed": false
   },
   "outputs": [
    {
     "data": {
      "text/plain": [
       "<matplotlib.legend.Legend at 0x84ce83d0>"
      ]
     },
     "execution_count": 38,
     "metadata": {},
     "output_type": "execute_result"
    }
   ],
   "source": [
    "import pandas as pd\n",
    "\n",
    "worker_data = pd.read_csv(\"task_log/celery_8nodes0413.csv\")\n",
    "queue_data = pd.read_csv(\"task_log/celery_8nodes0413_queue.csv\")\n",
    "\n",
    "plot(worker_data.duration, label='worker duration')\n",
    "#plot(queue_data.duration, label='inqueue duration')\n",
    "#plot(queue_data.latency, label='accept latency')\n",
    "legend()"
   ]
  },
  {
   "cell_type": "code",
   "execution_count": 65,
   "metadata": {
    "collapsed": false
   },
   "outputs": [
    {
     "data": {
      "text/plain": [
       "<matplotlib.legend.Legend at 0x107bca10>"
      ]
     },
     "execution_count": 65,
     "metadata": {},
     "output_type": "execute_result"
    }
   ],
   "source": [
    "import pandas as pd\n",
    "\n",
    "worker_data = pd.read_csv(\"task_log/celery_8nodes0414.csv\")\n",
    "queue_data = pd.read_csv(\"task_log/celery_8nodes0414_queue.csv\")\n",
    "\n",
    "plot(worker_data.duration, label='worker duration')\n",
    "#plot(queue_data.retries, label='retries')\n",
    "plot(queue_data.duration, label='inqueue duration')\n",
    "plot(queue_data.latency, label='accept latency')\n",
    "\n",
    "legend()"
   ]
  },
  {
   "cell_type": "code",
   "execution_count": 62,
   "metadata": {
    "collapsed": false
   },
   "outputs": [
    {
     "data": {
      "text/plain": [
       "<matplotlib.legend.Legend at 0x9bbe2d0>"
      ]
     },
     "execution_count": 62,
     "metadata": {},
     "output_type": "execute_result"
    }
   ],
   "source": [
    "import pandas as pd\n",
    "\n",
    "case_1 = pd.read_csv(\"reportscelery_0412_queue.csv\")\n",
    "case_2 = pd.read_csv(\"reports/celery_8nodes0414_queue.csv\")\n",
    "\n",
    "#plot(worker_data.duration, label='worker duration')\n",
    "#plot(case_1.retries, label='case1 retries', color='r')\n",
    "#plot(case_2.retries, label='case2 retries')\n",
    "plot(case_1.duration, label='case1 inqueue duration')\n",
    "plot(case_2.duration, label='case2 inqueue duration')\n",
    "\n",
    "legend()"
   ]
  },
  {
   "cell_type": "code",
   "execution_count": null,
   "metadata": {
    "collapsed": true
   },
   "outputs": [],
   "source": []
  }
 ],
 "metadata": {
  "kernelspec": {
   "display_name": "Python 2",
   "language": "python",
   "name": "python2"
  },
  "language_info": {
   "codemirror_mode": {
    "name": "ipython",
    "version": 2
   },
   "file_extension": ".py",
   "mimetype": "text/x-python",
   "name": "python",
   "nbconvert_exporter": "python",
   "pygments_lexer": "ipython2",
   "version": "2.7.3"
  }
 },
 "nbformat": 4,
 "nbformat_minor": 0
}
