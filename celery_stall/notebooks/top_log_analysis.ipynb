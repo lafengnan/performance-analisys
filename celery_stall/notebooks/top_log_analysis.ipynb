{
 "cells": [
  {
   "cell_type": "code",
   "execution_count": 2,
   "metadata": {
    "collapsed": false
   },
   "outputs": [
    {
     "name": "stdout",
     "output_type": "stream",
     "text": [
      "Using matplotlib backend: TkAgg\n",
      "Populating the interactive namespace from numpy and matplotlib\n"
     ]
    }
   ],
   "source": [
    "%pylab"
   ]
  },
  {
   "cell_type": "code",
   "execution_count": 105,
   "metadata": {
    "collapsed": false
   },
   "outputs": [
    {
     "data": {
      "text/plain": [
       "<matplotlib.legend.Legend at 0x23359350>"
      ]
     },
     "execution_count": 105,
     "metadata": {},
     "output_type": "execute_result"
    }
   ],
   "source": [
    "import pandas as pd\n",
    "\n",
    "data1 = pd.read_csv(\"/home/chris/Work/Debug/wand/25422.csv\")\n",
    "data2 = pd.read_csv(\"/home/chris/Work/Debug/wand/25436.csv\")\n",
    "data3 = pd.read_csv(\"/home/chris/Work/Debug/wand/25437.csv\")\n",
    "plot(data1.virt, label='pid:25442 virt')\n",
    "plot(data1.res, label='pid:25442 res')\n",
    "plot(data2.virt, label='pid:25436 virt')\n",
    "plot(data2.res, label='pid:25436 res')\n",
    "plot(data3.virt, label='pid:25437 virt')\n",
    "plot(data3.res, label='pid:25437 res')\n",
    "legend()"
   ]
  },
  {
   "cell_type": "code",
   "execution_count": 89,
   "metadata": {
    "collapsed": false
   },
   "outputs": [
    {
     "data": {
      "text/plain": [
       "<matplotlib.legend.Legend at 0x20bdaa90>"
      ]
     },
     "execution_count": 89,
     "metadata": {},
     "output_type": "execute_result"
    }
   ],
   "source": [
    "import pandas as pd\n",
    "\n",
    "data1 = pd.read_csv(\"/home/chris/Work/Debug/wand/4406.csv\")\n",
    "data2 = pd.read_csv(\"/home/chris/Work/Debug/wand/4421.csv\")\n",
    "data3 = pd.read_csv(\"/home/chris/Work/Debug/wand/4422.csv\")\n",
    "plot(data1.virt, label='pid:4406 virt')\n",
    "plot(data1.res, label='pid:4406 res')\n",
    "plot(data2.virt, label='pid:4421 virt')\n",
    "plot(data2.res, label='pid:4421 res')\n",
    "plot(data3.virt, label='pid:4422 virt')\n",
    "plot(data3.res, label='pid:4422 res')\n",
    "legend()"
   ]
  },
  {
   "cell_type": "code",
   "execution_count": 93,
   "metadata": {
    "collapsed": false
   },
   "outputs": [
    {
     "data": {
      "text/plain": [
       "<matplotlib.legend.Legend at 0x227919d0>"
      ]
     },
     "execution_count": 93,
     "metadata": {},
     "output_type": "execute_result"
    }
   ],
   "source": [
    "import pandas as pd\n",
    "\n",
    "data = pd.read_csv(\"/home/chris/Work/Debug/wand/top_024.csv\")\n",
    "data2 = pd.read_csv(\"/home/chris/Work/Debug/wand/top.csv\")\n",
    "plot(data.load_1, label='wand 0.2.4 avg load 1min')\n",
    "plot(data.load_5, label='wand 0.2.4 avg load 5min')\n",
    "plot(data.load_10, label='wand 0.2.4 avg lod 10min')\n",
    "plot(data2.load_1, label='wand 0.4.0 avg load 1min')\n",
    "plot(data2.load_5, label='wand 0.4.0 avg load 5min')\n",
    "plot(data2.load_10, label='wand 0.4.0 avg lod 10min')\n",
    "legend()"
   ]
  },
  {
   "cell_type": "code",
   "execution_count": 111,
   "metadata": {
    "collapsed": false
   },
   "outputs": [
    {
     "data": {
      "text/plain": [
       "<matplotlib.legend.Legend at 0x2a23f310>"
      ]
     },
     "execution_count": 111,
     "metadata": {},
     "output_type": "execute_result"
    }
   ],
   "source": [
    "import pandas as pd\n",
    "\n",
    "data = pd.read_csv(\"/home/chris/Work/Debug/wand/top_024.csv\")\n",
    "data2 = pd.read_csv(\"/home/chris/Work/Debug/wand/top.csv\")\n",
    "plot(data.cpu, label='wand 0.2.4 cpu usage')\n",
    "plot(data2.cpu, label='wand 0.4.0 cpu usage')\n",
    "#plot(data.mem, label='wand 0.2.4 mem usage')\n",
    "#plot(data2.mem, label='wand 0.4.0 mem usage')\n",
    "legend()"
   ]
  },
  {
   "cell_type": "code",
   "execution_count": 21,
   "metadata": {
    "collapsed": false
   },
   "outputs": [
    {
     "data": {
      "text/plain": [
       "            upload\n",
       "count  1001.000000\n",
       "mean      0.005193\n",
       "std       0.020582\n",
       "min       0.000612\n",
       "25%       0.000781\n",
       "50%       0.000831\n",
       "75%       0.000889\n",
       "max       0.403313"
      ]
     },
     "execution_count": 21,
     "metadata": {},
     "output_type": "execute_result"
    }
   ],
   "source": [
    "import pandas as pd\n",
    "\n",
    "#data = pd.read_csv(\"/home/chris/Work/Github/thumbnail-processor/python/upload.log\")\n",
    "data2 = pd.read_csv(\"/home/chris/Work/Github/thumbnail-processor/python/logs/1000write.log\")\n",
    "#plot(data.upload, label='upload')\n",
    "plot(data2.upload, label='upload')\n",
    "legend()\n",
    "#data.describe()\n",
    "data2.describe()"
   ]
  },
  {
   "cell_type": "code",
   "execution_count": 20,
   "metadata": {
    "collapsed": false
   },
   "outputs": [
    {
     "data": {
      "text/plain": [
       "              size\n",
       "count  1000.000000\n",
       "mean    214.097800\n",
       "std      84.294201\n",
       "min       2.800000\n",
       "25%     163.000000\n",
       "50%     213.000000\n",
       "75%     271.000000\n",
       "max     476.000000"
      ]
     },
     "execution_count": 20,
     "metadata": {},
     "output_type": "execute_result"
    }
   ],
   "source": [
    "import pandas as pd\n",
    "\n",
    "data = pd.read_csv(\"/home/chris/Work/Github/thumbnail-processor/python/pics.csv\")\n",
    "plot(data.size, label='size(KB)')\n",
    "legend()\n",
    "data.describe()"
   ]
  },
  {
   "cell_type": "code",
   "execution_count": null,
   "metadata": {
    "collapsed": true
   },
   "outputs": [],
   "source": []
  }
 ],
 "metadata": {
  "kernelspec": {
   "display_name": "Python 2",
   "language": "python",
   "name": "python2"
  },
  "language_info": {
   "codemirror_mode": {
    "name": "ipython",
    "version": 2
   },
   "file_extension": ".py",
   "mimetype": "text/x-python",
   "name": "python",
   "nbconvert_exporter": "python",
   "pygments_lexer": "ipython2",
   "version": "2.7.3"
  }
 },
 "nbformat": 4,
 "nbformat_minor": 0
}
