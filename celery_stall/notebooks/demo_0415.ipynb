{
 "cells": [
  {
   "cell_type": "code",
   "execution_count": 1,
   "metadata": {
    "collapsed": false
   },
   "outputs": [
    {
     "name": "stdout",
     "output_type": "stream",
     "text": [
      "Using matplotlib backend: TkAgg\n",
      "Populating the interactive namespace from numpy and matplotlib\n"
     ]
    }
   ],
   "source": [
    "%pylab"
   ]
  },
  {
   "cell_type": "code",
   "execution_count": 22,
   "metadata": {
    "collapsed": false
   },
   "outputs": [
    {
     "data": {
      "text/plain": [
       "<matplotlib.legend.Legend at 0x1b099d50>"
      ]
     },
     "execution_count": 22,
     "metadata": {},
     "output_type": "execute_result"
    }
   ],
   "source": [
    "# demo1: Demo w/clear_thumbnails\n",
    "import pandas as pd\n",
    "\n",
    "worker_data = pd.read_csv(\"reports/celery_0412.csv\")\n",
    "queue_data = pd.read_csv(\"reports/celery_0412_queue.csv\")\n",
    "\n",
    "plot(worker_data.duration, label='worker duration')\n",
    "plot(queue_data.retries, label='retries')\n",
    "plot(queue_data.duration, label='inqueue duration')\n",
    "plot(queue_data.latency, label='accept latency')\n",
    "legend()"
   ]
  },
  {
   "cell_type": "code",
   "execution_count": 23,
   "metadata": {
    "collapsed": false
   },
   "outputs": [
    {
     "data": {
      "text/plain": [
       "<matplotlib.legend.Legend at 0x3e617d10>"
      ]
     },
     "execution_count": 23,
     "metadata": {},
     "output_type": "execute_result"
    }
   ],
   "source": [
    "# demo2: Demo w/ normal file operations\n",
    "import pandas as pd\n",
    "\n",
    "worker_data = pd.read_csv(\"reports/celery_8nodes0414.csv\")\n",
    "queue_data = pd.read_csv(\"reports/celery_8nodes0414_queue.csv\")\n",
    "\n",
    "plot(worker_data.duration, label='worker duration')\n",
    "plot(queue_data.retries, label='retries')\n",
    "plot(queue_data.duration, label='inqueue duration')\n",
    "plot(queue_data.latency, label='accept latency')\n",
    "legend()"
   ]
  },
  {
   "cell_type": "code",
   "execution_count": 10,
   "metadata": {
    "collapsed": false
   },
   "outputs": [
    {
     "data": {
      "text/plain": [
       "<matplotlib.legend.Legend at 0x1d644490>"
      ]
     },
     "execution_count": 10,
     "metadata": {},
     "output_type": "execute_result"
    }
   ],
   "source": [
    "# demo 3: Demo for latency comparation\n",
    "import pandas as pd\n",
    "\n",
    "case_1 = pd.read_csv(\"reports/celery_0412_queue.csv\")\n",
    "case_2 = pd.read_csv(\"reports/celery_8nodes0414_queue.csv\")\n",
    "\n",
    "plot(case_2.latency, label='case2 latency')\n",
    "plot(case_1.latency, label='case1 latency')\n",
    "legend()"
   ]
  },
  {
   "cell_type": "code",
   "execution_count": 12,
   "metadata": {
    "collapsed": false
   },
   "outputs": [
    {
     "data": {
      "text/plain": [
       "<matplotlib.legend.Legend at 0x34a4ae50>"
      ]
     },
     "execution_count": 12,
     "metadata": {},
     "output_type": "execute_result"
    }
   ],
   "source": [
    "# demo 4: Demo for retries comparation\n",
    "import pandas as pd\n",
    "\n",
    "case_1 = pd.read_csv(\"reports/celery_0412_queue.csv\")\n",
    "case_2 = pd.read_csv(\"reports/celery_8nodes0414_queue.csv\")\n",
    "\n",
    "plot(case_1.retries, label='case1 retries', color='r')\n",
    "plot(case_2.retries, label='case2 retries')\n",
    "legend()"
   ]
  },
  {
   "cell_type": "code",
   "execution_count": 18,
   "metadata": {
    "collapsed": false
   },
   "outputs": [
    {
     "data": {
      "text/plain": [
       "<matplotlib.legend.Legend at 0x26006690>"
      ]
     },
     "execution_count": 18,
     "metadata": {},
     "output_type": "execute_result"
    }
   ],
   "source": [
    "# demo 5: Demo for Wand 0.2.4 memory usage\n",
    "import pandas as pd\n",
    "\n",
    "data1 = pd.read_csv(\"/home/chris/Work/Debug/wand/25422.csv\")\n",
    "data2 = pd.read_csv(\"/home/chris/Work/Debug/wand/25436.csv\")\n",
    "data3 = pd.read_csv(\"/home/chris/Work/Debug/wand/25437.csv\")\n",
    "\n",
    "plot(data1.virt, label='pid:25442 virt')\n",
    "plot(data1.res, label='pid:25442 res')\n",
    "plot(data2.virt, label='pid:25436 virt')\n",
    "plot(data2.res, label='pid:25436 res')\n",
    "plot(data3.virt, label='pid:25437 virt')\n",
    "plot(data3.res, label='pid:25437 res')\n",
    "legend()"
   ]
  },
  {
   "cell_type": "code",
   "execution_count": 19,
   "metadata": {
    "collapsed": false
   },
   "outputs": [
    {
     "data": {
      "text/plain": [
       "<matplotlib.legend.Legend at 0x33698890>"
      ]
     },
     "execution_count": 19,
     "metadata": {},
     "output_type": "execute_result"
    }
   ],
   "source": [
    "# demo 6: Demo for Wand 0.4.0 memory usage\n",
    "import pandas as pd\n",
    "\n",
    "data1 = pd.read_csv(\"/home/chris/Work/Debug/wand/4406.csv\")\n",
    "data2 = pd.read_csv(\"/home/chris/Work/Debug/wand/4421.csv\")\n",
    "data3 = pd.read_csv(\"/home/chris/Work/Debug/wand/4422.csv\")\n",
    "\n",
    "plot(data1.virt, label='pid:4406 virt')\n",
    "plot(data1.res, label='pid:4406 res')\n",
    "plot(data2.virt, label='pid:4421 virt')\n",
    "plot(data2.res, label='pid:4421 res')\n",
    "plot(data3.virt, label='pid:4422 virt')\n",
    "plot(data3.res, label='pid:4422 res')\n",
    "legend()"
   ]
  },
  {
   "cell_type": "code",
   "execution_count": 21,
   "metadata": {
    "collapsed": false
   },
   "outputs": [
    {
     "data": {
      "text/plain": [
       "<matplotlib.legend.Legend at 0x28fc5190>"
      ]
     },
     "execution_count": 21,
     "metadata": {},
     "output_type": "execute_result"
    }
   ],
   "source": [
    "# demo 7: Demo for load comparation between wand 0.2.4 and 0.4.0\n",
    "import pandas as pd\n",
    "\n",
    "data = pd.read_csv(\"/home/chris/Work/Debug/wand/top_024.csv\")\n",
    "data2 = pd.read_csv(\"/home/chris/Work/Debug/wand/top.csv\")\n",
    "\n",
    "plot(data.load_1, label='wand 0.2.4 avg load 1min')\n",
    "plot(data.load_5, label='wand 0.2.4 avg load 5min')\n",
    "plot(data.load_10, label='wand 0.2.4 avg lod 10min')\n",
    "plot(data2.load_1, label='wand 0.4.0 avg load 1min')\n",
    "plot(data2.load_5, label='wand 0.4.0 avg load 5min')\n",
    "plot(data2.load_10, label='wand 0.4.0 avg lod 10min')\n",
    "legend()"
   ]
  },
  {
   "cell_type": "code",
   "execution_count": null,
   "metadata": {
    "collapsed": true
   },
   "outputs": [],
   "source": []
  }
 ],
 "metadata": {
  "kernelspec": {
   "display_name": "Python 2",
   "language": "python",
   "name": "python2"
  },
  "language_info": {
   "codemirror_mode": {
    "name": "ipython",
    "version": 2
   },
   "file_extension": ".py",
   "mimetype": "text/x-python",
   "name": "python",
   "nbconvert_exporter": "python",
   "pygments_lexer": "ipython2",
   "version": "2.7.3"
  }
 },
 "nbformat": 4,
 "nbformat_minor": 0
}
